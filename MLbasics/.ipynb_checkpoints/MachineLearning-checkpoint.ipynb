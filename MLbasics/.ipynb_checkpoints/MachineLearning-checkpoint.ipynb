{
 "cells": [
  {
   "cell_type": "code",
   "execution_count": null,
   "id": "26a9cc93-f5f6-4981-bf20-2feaba5768e7",
   "metadata": {},
   "outputs": [],
   "source": [
    "from google.colab import drive\n",
    "drive.mount('/content/drive')"
   ]
  },
  {
   "cell_type": "code",
   "execution_count": null,
   "id": "af5ed06f-5c52-49e0-9cd5-fa8d7e9328c6",
   "metadata": {},
   "outputs": [],
   "source": [
    "cd \"/content/drive/My Drive/Colab Notebooks/CoE202/MLbasics\""
   ]
  },
  {
   "cell_type": "markdown",
   "id": "30a08d19-b78d-40ac-a3ff-af780d439bcb",
   "metadata": {},
   "source": [
    "# Machine Learning Basics"
   ]
  },
  {
   "cell_type": "markdown",
   "id": "cb16f902-96a5-4871-9a06-e23879e19c6f",
   "metadata": {},
   "source": [
    "## What is Machine Learning?\n",
    "Machine learning (ML) is a type of artificial intelligence (AI) that allows software applications to become more accurate at predicting outcomes without being explicitly programmed to do so.\n",
    "\n",
    "\n",
    "<figure class=\"image\">\n",
    "  <img src=\"https://drive.google.com/uc?export=view&id=18tLsc2FFkTSJxLN3XZVLzETEKcjWhGIu\" width=\"35%\" height=\"35%\" title=\"recommender system\" alt=\"recommender system\"></img>\n",
    "  <figcaption>Image from NVIDIA Developer</figcaption>\n",
    "</figure>"
   ]
  },
  {
   "cell_type": "markdown",
   "id": "73a4fb63-dd70-44d1-baf4-f2b737cf26fc",
   "metadata": {},
   "source": [
    "## Categories of Machine Learning"
   ]
  },
  {
   "cell_type": "markdown",
   "id": "0277f6ca-9cce-4f3b-8462-9b0b91999772",
   "metadata": {},
   "source": [
    "Machine Learning can be devided into 3 big categories!\n",
    "- Supervised Learning\n",
    "    - Build a predictive model from examples of data with known outcomes.\n",
    "    - Given a training set of labeled examples, we estimate the prediction function by minimizing the prediction error on the training set.\n",
    "- Unsupervised Learning\n",
    "    - Discover the latent structure in data for which outcomes are not known (No output y).\n",
    "- Reinforcement Learning\n",
    "    - Learn by trial-and-error through reward or punishment.\n",
    "    - The program learns to maximize reward without the human explicitly telling the rules.\n",
    "\n",
    "\n",
    "<figure class=\"image\">\n",
    "  <img src=\"https://drive.google.com/uc?export=view&id=19EJn6f7JneYCY6NEoeMbUvWsthZIwj7k\" width=\"40%\" height=\"40%\" title=\"recommender system\" alt=\"recommender system\"></img>\n",
    "  <figcaption>Image from http://hochul.net/blog/data_analysis_machine_learning_basic_1s/machinelearningalgorithm/ </figcaption>\n",
    "</figure>"
   ]
  },
  {
   "cell_type": "markdown",
   "id": "9a22daf8-241e-490a-91bd-a7ed81a0bb53",
   "metadata": {},
   "source": [
    "## Supervised Learning"
   ]
  },
  {
   "cell_type": "markdown",
   "id": "16c3eaaa-58c5-4684-a781-49036b71244c",
   "metadata": {},
   "source": [
    "**Training**: given a training set of **labeled examples**, estimate the prediction function $f$ by minimizing the prediction error on the training set  \n",
    "**Test**: apply $f$ to be a never before seen test example $x$ and output the predicted value $y = f(x)$\n",
    "\n",
    "There are 2 representative tasks for supervised learning!\n",
    "- Regression : Output is a number\n",
    "- Classification : Output is a label (binary or multi-class)"
   ]
  },
  {
   "cell_type": "markdown",
   "id": "7d8b99ac-9d46-4ebc-9570-cb1df1f8e6e4",
   "metadata": {},
   "source": [
    "### Regression : Linear Regression\n",
    "\n",
    "Linear regression is the most basic and simple approach to supervised learning.  \n",
    "It assumes that there is approximately a linear relationship between $X$ and $y$.\n",
    "\n",
    "<figure class=\"image\">\n",
    "  <img src=\"https://drive.google.com/uc?export=view&id=18OhFLae1mn2wClevQbMnAHF3Ft_wc_Rc\" width=\"40%\" height=\"40%\" title=\"recommender system\" alt=\"recommender system\"></img>\n",
    "</figure>\n",
    "\n",
    "So we aim to find the yellow line in Linear Regression task."
   ]
  },
  {
   "cell_type": "markdown",
   "id": "7adaedb4-fab6-4f33-8b68-256aec6e1493",
   "metadata": {},
   "source": [
    "#### Linear Regression Example : Housing Price Prediction\n",
    "As we learn in the lecture1, We are going predict Boston House Price using linear regression!"
   ]
  },
  {
   "cell_type": "code",
   "execution_count": null,
   "id": "b553cbe0-4f4d-4cef-ac05-424e31291f44",
   "metadata": {},
   "outputs": [],
   "source": [
    "# imports and setup\n",
    "%matplotlib inline\n",
    "\n",
    "import numpy as np\n",
    "import seaborn as sns\n",
    "import pandas as pd\n",
    "\n",
    "pd.set_option('precision', 4) # number precision for pandas\n",
    "pd.set_option('display.max_rows', 10)\n",
    "pd.set_option('display.float_format', '{:20,.2f}'.format) # get rid of scientific notation"
   ]
  },
  {
   "cell_type": "markdown",
   "id": "5b53bc75-f988-475e-be51-ba66844c7e89",
   "metadata": {},
   "source": [
    "#### Boston housing price dataset description\n",
    "\n",
    "The Boston data frame has 506 rows and 14 columns.\n",
    "\n",
    "````crim````: per capita crime rate by town.  \n",
    "````zn````: proportion of residential land zoned for lots over 25,000 sq.ft.  \n",
    "````indus````: proportion of non-retail business acres per town.  \n",
    "````chas````: Charles River dummy variable (= 1 if tract bounds river; 0 otherwise).  \n",
    "````nox````: nitrogen oxides concentration (parts per 10 million).  \n",
    "````rm````: average number of rooms per dwelling.  \n",
    "````age````: proportion of owner-occupied units built prior to 1940.  \n",
    "````dis````: weighted mean of distances to five Boston employment centres.  \n",
    "````rad````: index of accessibility to radial highways.  \n",
    "````tax````: full-value property-tax rate per \\$10,000.  \n",
    "````ptratio````: pupil-teacher ratio by town.  \n",
    "````black````: 1000(Bk - 0.63)^2 where Bk is the proportion of blacks by town.  \n",
    "````lstat````: lower status of the population (percent).  \n",
    "````medv````: median value of owner-occupied homes in \\$1000s.  \n",
    "\n",
    "#### Goal: Predict ````medv```` (response) using ````lstat```` (predictor)"
   ]
  },
  {
   "cell_type": "code",
   "execution_count": null,
   "id": "09bf4e06-3035-4ab0-a2dd-be3fe087efcb",
   "metadata": {},
   "outputs": [],
   "source": [
    "# load data\n",
    "boston = pd.read_csv('Boston.csv')\n",
    "boston"
   ]
  },
  {
   "cell_type": "markdown",
   "id": "b76eecab-4214-402b-a762-bed45ad4a331",
   "metadata": {},
   "source": [
    "#### Simple Data Exploration\n",
    "First, Let's check out how data looks like"
   ]
  },
  {
   "cell_type": "code",
   "execution_count": null,
   "id": "661874f6-2778-465c-8245-fca8250d51d0",
   "metadata": {},
   "outputs": [],
   "source": [
    "import matplotlib.pyplot as plt\n",
    "\n",
    "fig, ax = plt.subplots()\n",
    "ax.scatter(boston.lstat.values, boston.medv.values, label='Data');\n",
    "ax.set_xlabel(\"lstat\");\n",
    "ax.set_ylabel(\"medv\");\n",
    "ax.legend();\n",
    "plt.xlim(0, 40);\n",
    "plt.ylim(0, 55);"
   ]
  },
  {
   "cell_type": "markdown",
   "id": "cb4355b0-e786-4a79-ad4a-42c2b11791be",
   "metadata": {},
   "source": [
    "#### Simple Linear Regression using Scikit-Learn"
   ]
  },
  {
   "cell_type": "code",
   "execution_count": null,
   "id": "4e4427be-bedd-46b0-8462-1430a03892fa",
   "metadata": {},
   "outputs": [],
   "source": [
    "from sklearn.linear_model import LinearRegression\n",
    "\n",
    "# LR model with intercept\n",
    "LR_sklearn = LinearRegression(fit_intercept=True)\n",
    "\n",
    "X_train = boston['lstat'].values.reshape(-1, 1) # Input (X)\n",
    "y_train = boston['medv'].values # Ground Truth (y)\n",
    "LR_sklearn.fit(X_train, y_train)\n",
    "(LR_sklearn.intercept_, LR_sklearn.coef_)"
   ]
  },
  {
   "cell_type": "markdown",
   "id": "eff95c54-d330-4591-9766-90fa558df088",
   "metadata": {},
   "source": [
    "#### Drawing the regresion line on top of the scatterplot"
   ]
  },
  {
   "cell_type": "code",
   "execution_count": null,
   "id": "8b121583-c326-403e-a149-9e6c3a971b99",
   "metadata": {},
   "outputs": [],
   "source": [
    "fig, ax = plt.subplots()\n",
    "boston.plot(x=\"lstat\", y=\"medv\", style=\"o\", ax=ax) # plot using pandas\n",
    "ax.set_ylabel(\"medv\")\n",
    "xs = range(int(np.min(X_train[:,0])), int(np.max(X_train[:,0])))\n",
    "xs = np.array(xs).reshape(-1,1)\n",
    "ys = LR_sklearn.predict(xs)\n",
    "ax.plot(xs, ys, 'r', linewidth=2.5);\n",
    "ax.legend(['Data',\"LR\"]);\n",
    "plt.xlim(0, 40);\n",
    "plt.ylim(0, 55);"
   ]
  },
  {
   "cell_type": "markdown",
   "id": "a6e9212c-bf84-4d43-aef8-9104f9d5a6b0",
   "metadata": {},
   "source": [
    "It seems like our model is well fitted to the data!"
   ]
  },
  {
   "cell_type": "markdown",
   "id": "b23a4e95-37f3-4ac9-bf07-630e6d31c8c4",
   "metadata": {},
   "source": [
    "#### Multivariate Linear Regression\n",
    "\n",
    "Can we use more features? it looks wasteful not using the all given feature!    \n",
    "As we learned in lecture, we can easily extend to **multivariate settings**! (Higher Dimension)\n",
    "\n",
    "<figure class=\"image\">\n",
    "  <img src=\"https://drive.google.com/uc?export=view&id=18EmMHQbcZ4aW7xk1Kkqv8HEDsc3CqgeB\" width=\"30%\" height=\"30%\" title=\"recommender system\" alt=\"recommender system\"></img>\n",
    "</figure>\n",
    "\n",
    "We can use above mentioned features in Boston Dataset.\n",
    "<figure class=\"image\">\n",
    "  <img src=\"https://drive.google.com/uc?export=view&id=188XYn1wlIV23uV63jo-bDUb9HtjWLNYZ\" width=\"50%\" height=\"50%\" title=\"recommender system\" alt=\"recommender system\"></img>\n",
    "</figure>"
   ]
  },
  {
   "cell_type": "code",
   "execution_count": null,
   "id": "8ef247ee-18cd-4866-b9f4-63306fa0aaf9",
   "metadata": {},
   "outputs": [],
   "source": [
    "# regression with 2 input columns\n",
    "X_train = boston[[\"lstat\", \"age\"]]\n",
    "y_true = boston['medv']\n",
    "ols_sklearn_2 = LinearRegression()\n",
    "ols_sklearn_2.fit(X_train, y_true)\n",
    "(ols_sklearn_2.intercept_, ols_sklearn_2.coef_)"
   ]
  },
  {
   "cell_type": "code",
   "execution_count": null,
   "id": "a2178328-1310-47fc-ba18-d4143cc39aa1",
   "metadata": {},
   "outputs": [],
   "source": [
    "# regression using all input columns\n",
    "xcols = boston.columns[:-1] # Last column is the label column\n",
    "X_train = boston[xcols]\n",
    "y_true = boston['medv']\n",
    "ols_sklearn_3 = LinearRegression()\n",
    "ols_sklearn_3.fit(X_train, y_true)\n",
    "(ols_sklearn_3.intercept_, ols_sklearn_3.coef_)"
   ]
  },
  {
   "cell_type": "markdown",
   "id": "afeeefca-4c31-4820-b56c-d05dbbc1337b",
   "metadata": {},
   "source": [
    "### Classification : Logistic Regression\n",
    "\n",
    "The linear regression model assumes that the response variable $y$ is quantitative.  \n",
    "But in many situations, the response variable is instead **qualitative** or **categorical**, leading to **classification problem**.  \n",
    "\n",
    "Often we are more interested in estimating the probabilities that $X$ belongs to each category.\n",
    "\n",
    "Logistic regression models are linear models for classification\n",
    "\n",
    "We use the logistic function (a type of **“S”-shaped sigmoid function**)  \n",
    "- $P\\left(y_{i}=1 \\mid X_{i} ; \\boldsymbol{\\beta}\\right)=\\frac{e^{\\beta_{0}+\\beta_{1} X_{i 1}+\\cdots+\\beta_{p} X_{i p}}}{1+e^{\\beta_{0}+\\beta_{1} X_{i 1}+\\cdots+\\beta_{p} X_{i p}}}=\\frac{e^{X_{i}\\boldsymbol{\\beta}}}{1+e^{X_{i} \\boldsymbol{\\beta}}}=\\operatorname{sigmoid}\\left(X_{i}\\right)=\\sigma\\left(X_{i}\\right)$\n",
    "    \n",
    "<figure class=\"image\">\n",
    "  <img src=\"https://drive.google.com/uc?export=view&id=18R_JLCuSV1G6-Ppar1dTSRu5LpQg4EJq\" width=\"50%\" height=\"50%\" title=\"recommender system\" alt=\"recommender system\"></img>\n",
    "</figure>\n",
    "\n",
    "Let's predict the stock market direction with logistic regression!"
   ]
  },
  {
   "cell_type": "markdown",
   "id": "b28f88fa-c480-4422-aaf1-22823d3576a5",
   "metadata": {},
   "source": [
    "#### Smarket: S&P Stock Market dataset description\n",
    "\n",
    "A data frame with 1250 observations on the following 9 variables.\n",
    "\n",
    "``Year``: The year that the observation was recorded  \n",
    "``Lag1``: Percentage return for previous day  \n",
    "``Lag2``: Percentage return for 2 days previous  \n",
    "``Lag3``: Percentage return for 3 days previous  \n",
    "``Lag4``: Percentage return for 4 days previous  \n",
    "``Lag5``: Percentage return for 5 days previous  \n",
    "``Volume``: Volume of shares traded (number of daily shares traded in billions)  \n",
    "``Today``: Percentage return for today  \n",
    "``Direction``: A factor with levels Down and Up indicating whether the market had a positive or negative return on a given day"
   ]
  },
  {
   "cell_type": "code",
   "execution_count": null,
   "id": "c363aff6-c6a7-4bd8-8a17-1c83999c243a",
   "metadata": {},
   "outputs": [],
   "source": [
    "smarket = pd.read_csv('Smarket.csv')\n",
    "smarket.Direction = smarket.Direction.astype('category')\n",
    "smarket['Day']=smarket.index\n",
    "smarket.head()"
   ]
  },
  {
   "cell_type": "code",
   "execution_count": null,
   "id": "0902424c-e739-4025-8dd7-2cb2b72062d0",
   "metadata": {},
   "outputs": [],
   "source": [
    "fig, ax = plt.subplots(figsize = (8,6))\n",
    "ax.scatter(smarket.Day, smarket.Volume);\n",
    "ax.set_xlabel('Days');\n",
    "ax.set_ylabel('Volume in Billions');"
   ]
  },
  {
   "cell_type": "code",
   "execution_count": null,
   "id": "7c030a92-49ea-41dc-86d9-702c78614bff",
   "metadata": {},
   "outputs": [],
   "source": [
    "from sklearn.linear_model import LogisticRegression\n",
    "\n",
    "X = smarket.loc[:,'Lag1':'Volume']\n",
    "y = smarket.Direction\n",
    "\n",
    "logistic_sklearn = LogisticRegression(fit_intercept=True, C=1e9) # Large C for no regularization\n",
    "logistic_sklearn_fit = logistic_sklearn.fit(X, y)\n",
    "\n",
    "print(\"Intercept: {}\".format(logistic_sklearn_fit.intercept_))\n",
    "print(\"Coefficients: {}\".format(logistic_sklearn_fit.coef_))"
   ]
  },
  {
   "cell_type": "code",
   "execution_count": null,
   "id": "460444f3-bf3d-4689-80c8-389e4aca6ead",
   "metadata": {},
   "outputs": [],
   "source": [
    "y_pred = logistic_sklearn_fit.predict_proba(X)[:, 0]\n",
    "y_pred_class = logistic_sklearn_fit.predict(X)\n",
    "\n",
    "from sklearn.metrics import accuracy_score\n",
    "acc = accuracy_score(y, y_pred_class)\n",
    "print('Accuracy: {} \\n'.format(acc))\n",
    "\n",
    "# prediction summary\n",
    "pd.DataFrame({'prob_0': y_pred, 'prob_1': 1 - y_pred, 'pred_class': y_pred_class, 'ground_truth': y},  columns=['prob_0', 'prob_1', 'pred_class', 'ground_truth'])"
   ]
  },
  {
   "cell_type": "markdown",
   "id": "f722a720-54d3-43f7-916c-4133910b274f",
   "metadata": {},
   "source": [
    "## Unsupervised Learning\n",
    "Discover the latent structure in data ($x_1, x_2, ..., x_n$) for which outcomes are not known (No output $y$).  \n",
    "The most representative task is **Cluster Analysis**.  \n",
    "  \n",
    "**Cluster Analysis** is the task of grouping a set of objects in such a way that objects in the same group are more similar to each other than those in other groups (clusters).\n",
    "\n",
    "<figure class=\"image\">\n",
    "  <img src=\"https://drive.google.com/uc?export=view&id=196k1nOo9Ws-ay8Mfyiy-7VAHcWsp2gMS\" width=\"30%\" height=\"30%\" title=\"recommender system\" alt=\"recommender system\"></img>\n",
    "</figure>\n",
    "\n",
    "### K-Means Clustering\n",
    "K-means clustering is the most basic algorithm for clustering task.  \n",
    "K-means clustering minimizes within-cluster variances by iteratively updating centroids position until convergence.\n",
    "\n",
    "<figure class=\"image\">\n",
    "  <img src=\"https://drive.google.com/uc?export=view&id=19-PyMuREjW2Iya3TumxPforhE9uVDQ_1\" width=\"50%\" height=\"50%\" title=\"recommender system\" alt=\"recommender system\"></img>\n",
    "</figure>"
   ]
  },
  {
   "cell_type": "code",
   "execution_count": null,
   "id": "3afa4af9-850f-4bb9-ae6f-630c56490c7e",
   "metadata": {},
   "outputs": [],
   "source": [
    "#Iris_data_k-means_plot\n",
    "import numpy as np\n",
    "import pandas as pd\n",
    "import matplotlib.pyplot as plt\n",
    "from matplotlib.colors import ListedColormap\n",
    "\n",
    "#Plotting the Iris data\n",
    "#select setosa and versicolor\n",
    "df = pd.read_csv('https://archive.ics.uci.edu/ml/machine-learning-databases/iris/iris.data', header=None)\n",
    "y = df.iloc[0:100, 4].values\n",
    "y = np.where(y == 'Iris-setosa', -1, 1)\n",
    "\n",
    "#extract sepal length and petal length\n",
    "X = df.iloc[0:100, [0, 2]].values\n",
    "\n",
    "#plot data\n",
    "plt.scatter(X[:50, 0], X[:50, 1],\n",
    "color='red', marker='o', label='setosa')\n",
    "plt.scatter(X[50:100, 0], X[50:100, 1],\n",
    "color='blue', marker='x', label='versicolor')\n",
    "\n",
    "plt.xlabel('sepal length [cm]')\n",
    "plt.ylabel('petal length [cm]')\n",
    "plt.legend(loc='upper left')\n",
    "plt.show()"
   ]
  },
  {
   "cell_type": "code",
   "execution_count": null,
   "id": "5db7b949-c962-49fb-9395-77e9d47cec7b",
   "metadata": {},
   "outputs": [],
   "source": [
    "#Kmeans processing\n",
    "from sklearn.cluster import KMeans\n",
    "\n",
    "km = KMeans(n_clusters=2, init='k-means++', n_init=10, max_iter=300, tol=1e-04,random_state=0)\n",
    "\n",
    "y_km = km.fit_predict(X)\n",
    "\n",
    "plt.scatter(X[y_km == 0, 0],X[y_km == 0, 1], s=50, c='lightgreen',\n",
    "marker='s',edgecolor='black', label='cluster 1')\n",
    "plt.scatter(X[y_km == 1, 0], X[y_km == 1, 1], s=50, c='orange',\n",
    "marker='o',edgecolor='black',label='cluster 2')\n",
    "plt.scatter(km.cluster_centers_[:, 0], km.cluster_centers_[:, 1],\n",
    "s=250, marker='*', c='red', edgecolor='black',\n",
    "label='centroids')\n",
    "plt.xlabel('sepal length [cm]')\n",
    "plt.ylabel('petal length [cm]')\n",
    "plt.legend(loc='upper left')"
   ]
  },
  {
   "cell_type": "code",
   "execution_count": null,
   "id": "1078a477-6463-4bb4-9981-1c44b4069ac9",
   "metadata": {},
   "outputs": [],
   "source": []
  }
 ],
 "metadata": {
  "kernelspec": {
   "display_name": "Python 3",
   "language": "python",
   "name": "python3"
  },
  "language_info": {
   "codemirror_mode": {
    "name": "ipython",
    "version": 3
   },
   "file_extension": ".py",
   "mimetype": "text/x-python",
   "name": "python",
   "nbconvert_exporter": "python",
   "pygments_lexer": "ipython3",
   "version": "3.7.10"
  }
 },
 "nbformat": 4,
 "nbformat_minor": 5
}
