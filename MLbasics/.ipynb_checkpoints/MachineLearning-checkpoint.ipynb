{
 "cells": [
  {
   "cell_type": "markdown",
   "id": "30a08d19-b78d-40ac-a3ff-af780d439bcb",
   "metadata": {},
   "source": [
    "# Machine Learning Basics"
   ]
  },
  {
   "cell_type": "markdown",
   "id": "cb16f902-96a5-4871-9a06-e23879e19c6f",
   "metadata": {},
   "source": [
    "## What is Machine Learning?\n",
    "Machine learning (ML) is a type of artificial intelligence (AI) that allows software applications to become more accurate at predicting outcomes without being explicitly programmed to do so.\n",
    "\n",
    "\n",
    "<figure class=\"image\">\n",
    "  <img src=\"https://drive.google.com/uc?export=view&id=18tLsc2FFkTSJxLN3XZVLzETEKcjWhGIu\" width=\"35%\" height=\"35%\" title=\"recommender system\" alt=\"recommender system\"></img>\n",
    "  <figcaption>Image from NVIDIA Developer</figcaption>\n",
    "</figure>"
   ]
  },
  {
   "cell_type": "markdown",
   "id": "73a4fb63-dd70-44d1-baf4-f2b737cf26fc",
   "metadata": {},
   "source": [
    "## Categories of Machine Learning"
   ]
  },
  {
   "cell_type": "markdown",
   "id": "0277f6ca-9cce-4f3b-8462-9b0b91999772",
   "metadata": {},
   "source": [
    "Machine Learning can be devided into 3 big categories!\n",
    "- Supervised Learning\n",
    "    - Build a predictive model from examples of data with known outcomes.\n",
    "    - Given a training set of labeled examples, we estimate the prediction function by minimizing the prediction error on the training set.\n",
    "- Unsupervised Learning\n",
    "    - Discover the latent structure in data for which outcomes are not known (No output y).\n",
    "- Reinforcement Learning\n",
    "    - Learn by trial-and-error through reward or punishment.\n",
    "    - The program learns to maximize reward without the human explicitly telling the rules.\n",
    "\n",
    "\n",
    "<figure class=\"image\">\n",
    "  <img src=\"https://drive.google.com/uc?export=view&id=19EJn6f7JneYCY6NEoeMbUvWsthZIwj7k\" width=\"40%\" height=\"40%\" title=\"recommender system\" alt=\"recommender system\"></img>\n",
    "  <figcaption>Image from http://hochul.net/blog/data_analysis_machine_learning_basic_1s/machinelearningalgorithm/ </figcaption>\n",
    "</figure>"
   ]
  },
  {
   "cell_type": "markdown",
   "id": "9a22daf8-241e-490a-91bd-a7ed81a0bb53",
   "metadata": {},
   "source": [
    "## Supervised Learning"
   ]
  },
  {
   "cell_type": "markdown",
   "id": "16c3eaaa-58c5-4684-a781-49036b71244c",
   "metadata": {},
   "source": [
    "**Training**: given a training set of **labeled examples**, estimate the prediction function $f$ by minimizing the prediction error on the training set  \n",
    "**Test**: apply $f$ to be a never before seen test example $x$ and output the predicted value $y = f(x)$\n",
    "\n",
    "There are 2 representative tasks for supervised learning!\n",
    "- Regression : Output is a number\n",
    "- Classification : Output is a label (binary or multi-class)"
   ]
  },
  {
   "cell_type": "markdown",
   "id": "7d8b99ac-9d46-4ebc-9570-cb1df1f8e6e4",
   "metadata": {},
   "source": [
    "### Regression : Linear Regression\n",
    "\n",
    "Linear regression is the most basic and simple approach to supervised learning.  \n",
    "It assumes that there is approximately a linear relationship between $X$ and $y$.\n",
    "\n",
    "<figure class=\"image\">\n",
    "  <img src=\"https://drive.google.com/uc?export=view&id=18OhFLae1mn2wClevQbMnAHF3Ft_wc_Rc\" width=\"40%\" height=\"40%\" title=\"recommender system\" alt=\"recommender system\"></img>\n",
    "</figure>\n",
    "\n",
    "So we aim to find the yellow line in Linear Regression task."
   ]
  },
  {
   "cell_type": "markdown",
   "id": "7adaedb4-fab6-4f33-8b68-256aec6e1493",
   "metadata": {},
   "source": [
    "#### Linear Regression Example : Housing Price Prediction\n",
    "As we learn in the lecture1, We are going predict Boston House Price using linear regression!"
   ]
  },
  {
   "cell_type": "code",
   "execution_count": 1,
   "id": "b553cbe0-4f4d-4cef-ac05-424e31291f44",
   "metadata": {},
   "outputs": [],
   "source": [
    "# imports and setup\n",
    "%matplotlib inline\n",
    "\n",
    "import numpy as np\n",
    "import seaborn as sns\n",
    "import pandas as pd\n",
    "\n",
    "pd.set_option('precision', 4) # number precision for pandas\n",
    "pd.set_option('display.max_rows', 10)\n",
    "pd.set_option('display.float_format', '{:20,.2f}'.format) # get rid of scientific notation"
   ]
  },
  {
   "cell_type": "markdown",
   "id": "5b53bc75-f988-475e-be51-ba66844c7e89",
   "metadata": {},
   "source": [
    "#### Boston housing price dataset description\n",
    "\n",
    "The Boston data frame has 506 rows and 14 columns.\n",
    "\n",
    "````crim````: per capita crime rate by town.  \n",
    "````zn````: proportion of residential land zoned for lots over 25,000 sq.ft.  \n",
    "````indus````: proportion of non-retail business acres per town.  \n",
    "````chas````: Charles River dummy variable (= 1 if tract bounds river; 0 otherwise).  \n",
    "````nox````: nitrogen oxides concentration (parts per 10 million).  \n",
    "````rm````: average number of rooms per dwelling.  \n",
    "````age````: proportion of owner-occupied units built prior to 1940.  \n",
    "````dis````: weighted mean of distances to five Boston employment centres.  \n",
    "````rad````: index of accessibility to radial highways.  \n",
    "````tax````: full-value property-tax rate per \\$10,000.  \n",
    "````ptratio````: pupil-teacher ratio by town.  \n",
    "````black````: 1000(Bk - 0.63)^2 where Bk is the proportion of blacks by town.  \n",
    "````lstat````: lower status of the population (percent).  \n",
    "````medv````: median value of owner-occupied homes in \\$1000s.  \n",
    "\n",
    "#### Goal: Predict ````medv```` (response) using ````lstat```` (predictor)"
   ]
  },
  {
   "cell_type": "code",
   "execution_count": 2,
   "id": "09bf4e06-3035-4ab0-a2dd-be3fe087efcb",
   "metadata": {},
   "outputs": [
    {
     "data": {
      "text/html": [
       "<div>\n",
       "<style scoped>\n",
       "    .dataframe tbody tr th:only-of-type {\n",
       "        vertical-align: middle;\n",
       "    }\n",
       "\n",
       "    .dataframe tbody tr th {\n",
       "        vertical-align: top;\n",
       "    }\n",
       "\n",
       "    .dataframe thead th {\n",
       "        text-align: right;\n",
       "    }\n",
       "</style>\n",
       "<table border=\"1\" class=\"dataframe\">\n",
       "  <thead>\n",
       "    <tr style=\"text-align: right;\">\n",
       "      <th></th>\n",
       "      <th>crim</th>\n",
       "      <th>zn</th>\n",
       "      <th>indus</th>\n",
       "      <th>chas</th>\n",
       "      <th>nox</th>\n",
       "      <th>rm</th>\n",
       "      <th>age</th>\n",
       "      <th>dis</th>\n",
       "      <th>rad</th>\n",
       "      <th>tax</th>\n",
       "      <th>ptratio</th>\n",
       "      <th>black</th>\n",
       "      <th>lstat</th>\n",
       "      <th>medv</th>\n",
       "    </tr>\n",
       "  </thead>\n",
       "  <tbody>\n",
       "    <tr>\n",
       "      <th>0</th>\n",
       "      <td>0.01</td>\n",
       "      <td>18.00</td>\n",
       "      <td>2.31</td>\n",
       "      <td>0</td>\n",
       "      <td>0.54</td>\n",
       "      <td>6.58</td>\n",
       "      <td>65.20</td>\n",
       "      <td>4.09</td>\n",
       "      <td>1</td>\n",
       "      <td>296.00</td>\n",
       "      <td>15.30</td>\n",
       "      <td>396.90</td>\n",
       "      <td>4.98</td>\n",
       "      <td>24.00</td>\n",
       "    </tr>\n",
       "    <tr>\n",
       "      <th>1</th>\n",
       "      <td>0.03</td>\n",
       "      <td>0.00</td>\n",
       "      <td>7.07</td>\n",
       "      <td>0</td>\n",
       "      <td>0.47</td>\n",
       "      <td>6.42</td>\n",
       "      <td>78.90</td>\n",
       "      <td>4.97</td>\n",
       "      <td>2</td>\n",
       "      <td>242.00</td>\n",
       "      <td>17.80</td>\n",
       "      <td>396.90</td>\n",
       "      <td>9.14</td>\n",
       "      <td>21.60</td>\n",
       "    </tr>\n",
       "    <tr>\n",
       "      <th>2</th>\n",
       "      <td>0.03</td>\n",
       "      <td>0.00</td>\n",
       "      <td>7.07</td>\n",
       "      <td>0</td>\n",
       "      <td>0.47</td>\n",
       "      <td>7.18</td>\n",
       "      <td>61.10</td>\n",
       "      <td>4.97</td>\n",
       "      <td>2</td>\n",
       "      <td>242.00</td>\n",
       "      <td>17.80</td>\n",
       "      <td>392.83</td>\n",
       "      <td>4.03</td>\n",
       "      <td>34.70</td>\n",
       "    </tr>\n",
       "    <tr>\n",
       "      <th>3</th>\n",
       "      <td>0.03</td>\n",
       "      <td>0.00</td>\n",
       "      <td>2.18</td>\n",
       "      <td>0</td>\n",
       "      <td>0.46</td>\n",
       "      <td>7.00</td>\n",
       "      <td>45.80</td>\n",
       "      <td>6.06</td>\n",
       "      <td>3</td>\n",
       "      <td>222.00</td>\n",
       "      <td>18.70</td>\n",
       "      <td>394.63</td>\n",
       "      <td>2.94</td>\n",
       "      <td>33.40</td>\n",
       "    </tr>\n",
       "    <tr>\n",
       "      <th>4</th>\n",
       "      <td>0.07</td>\n",
       "      <td>0.00</td>\n",
       "      <td>2.18</td>\n",
       "      <td>0</td>\n",
       "      <td>0.46</td>\n",
       "      <td>7.15</td>\n",
       "      <td>54.20</td>\n",
       "      <td>6.06</td>\n",
       "      <td>3</td>\n",
       "      <td>222.00</td>\n",
       "      <td>18.70</td>\n",
       "      <td>396.90</td>\n",
       "      <td>5.33</td>\n",
       "      <td>36.20</td>\n",
       "    </tr>\n",
       "    <tr>\n",
       "      <th>...</th>\n",
       "      <td>...</td>\n",
       "      <td>...</td>\n",
       "      <td>...</td>\n",
       "      <td>...</td>\n",
       "      <td>...</td>\n",
       "      <td>...</td>\n",
       "      <td>...</td>\n",
       "      <td>...</td>\n",
       "      <td>...</td>\n",
       "      <td>...</td>\n",
       "      <td>...</td>\n",
       "      <td>...</td>\n",
       "      <td>...</td>\n",
       "      <td>...</td>\n",
       "    </tr>\n",
       "    <tr>\n",
       "      <th>501</th>\n",
       "      <td>0.06</td>\n",
       "      <td>0.00</td>\n",
       "      <td>11.93</td>\n",
       "      <td>0</td>\n",
       "      <td>0.57</td>\n",
       "      <td>6.59</td>\n",
       "      <td>69.10</td>\n",
       "      <td>2.48</td>\n",
       "      <td>1</td>\n",
       "      <td>273.00</td>\n",
       "      <td>21.00</td>\n",
       "      <td>391.99</td>\n",
       "      <td>9.67</td>\n",
       "      <td>22.40</td>\n",
       "    </tr>\n",
       "    <tr>\n",
       "      <th>502</th>\n",
       "      <td>0.05</td>\n",
       "      <td>0.00</td>\n",
       "      <td>11.93</td>\n",
       "      <td>0</td>\n",
       "      <td>0.57</td>\n",
       "      <td>6.12</td>\n",
       "      <td>76.70</td>\n",
       "      <td>2.29</td>\n",
       "      <td>1</td>\n",
       "      <td>273.00</td>\n",
       "      <td>21.00</td>\n",
       "      <td>396.90</td>\n",
       "      <td>9.08</td>\n",
       "      <td>20.60</td>\n",
       "    </tr>\n",
       "    <tr>\n",
       "      <th>503</th>\n",
       "      <td>0.06</td>\n",
       "      <td>0.00</td>\n",
       "      <td>11.93</td>\n",
       "      <td>0</td>\n",
       "      <td>0.57</td>\n",
       "      <td>6.98</td>\n",
       "      <td>91.00</td>\n",
       "      <td>2.17</td>\n",
       "      <td>1</td>\n",
       "      <td>273.00</td>\n",
       "      <td>21.00</td>\n",
       "      <td>396.90</td>\n",
       "      <td>5.64</td>\n",
       "      <td>23.90</td>\n",
       "    </tr>\n",
       "    <tr>\n",
       "      <th>504</th>\n",
       "      <td>0.11</td>\n",
       "      <td>0.00</td>\n",
       "      <td>11.93</td>\n",
       "      <td>0</td>\n",
       "      <td>0.57</td>\n",
       "      <td>6.79</td>\n",
       "      <td>89.30</td>\n",
       "      <td>2.39</td>\n",
       "      <td>1</td>\n",
       "      <td>273.00</td>\n",
       "      <td>21.00</td>\n",
       "      <td>393.45</td>\n",
       "      <td>6.48</td>\n",
       "      <td>22.00</td>\n",
       "    </tr>\n",
       "    <tr>\n",
       "      <th>505</th>\n",
       "      <td>0.05</td>\n",
       "      <td>0.00</td>\n",
       "      <td>11.93</td>\n",
       "      <td>0</td>\n",
       "      <td>0.57</td>\n",
       "      <td>6.03</td>\n",
       "      <td>80.80</td>\n",
       "      <td>2.50</td>\n",
       "      <td>1</td>\n",
       "      <td>273.00</td>\n",
       "      <td>21.00</td>\n",
       "      <td>396.90</td>\n",
       "      <td>7.88</td>\n",
       "      <td>11.90</td>\n",
       "    </tr>\n",
       "  </tbody>\n",
       "</table>\n",
       "<p>506 rows × 14 columns</p>\n",
       "</div>"
      ],
      "text/plain": [
       "                    crim                   zn                indus  chas  \\\n",
       "0                   0.01                18.00                 2.31     0   \n",
       "1                   0.03                 0.00                 7.07     0   \n",
       "2                   0.03                 0.00                 7.07     0   \n",
       "3                   0.03                 0.00                 2.18     0   \n",
       "4                   0.07                 0.00                 2.18     0   \n",
       "..                   ...                  ...                  ...   ...   \n",
       "501                 0.06                 0.00                11.93     0   \n",
       "502                 0.05                 0.00                11.93     0   \n",
       "503                 0.06                 0.00                11.93     0   \n",
       "504                 0.11                 0.00                11.93     0   \n",
       "505                 0.05                 0.00                11.93     0   \n",
       "\n",
       "                     nox                   rm                  age  \\\n",
       "0                   0.54                 6.58                65.20   \n",
       "1                   0.47                 6.42                78.90   \n",
       "2                   0.47                 7.18                61.10   \n",
       "3                   0.46                 7.00                45.80   \n",
       "4                   0.46                 7.15                54.20   \n",
       "..                   ...                  ...                  ...   \n",
       "501                 0.57                 6.59                69.10   \n",
       "502                 0.57                 6.12                76.70   \n",
       "503                 0.57                 6.98                91.00   \n",
       "504                 0.57                 6.79                89.30   \n",
       "505                 0.57                 6.03                80.80   \n",
       "\n",
       "                     dis  rad                  tax              ptratio  \\\n",
       "0                   4.09    1               296.00                15.30   \n",
       "1                   4.97    2               242.00                17.80   \n",
       "2                   4.97    2               242.00                17.80   \n",
       "3                   6.06    3               222.00                18.70   \n",
       "4                   6.06    3               222.00                18.70   \n",
       "..                   ...  ...                  ...                  ...   \n",
       "501                 2.48    1               273.00                21.00   \n",
       "502                 2.29    1               273.00                21.00   \n",
       "503                 2.17    1               273.00                21.00   \n",
       "504                 2.39    1               273.00                21.00   \n",
       "505                 2.50    1               273.00                21.00   \n",
       "\n",
       "                   black                lstat                 medv  \n",
       "0                 396.90                 4.98                24.00  \n",
       "1                 396.90                 9.14                21.60  \n",
       "2                 392.83                 4.03                34.70  \n",
       "3                 394.63                 2.94                33.40  \n",
       "4                 396.90                 5.33                36.20  \n",
       "..                   ...                  ...                  ...  \n",
       "501               391.99                 9.67                22.40  \n",
       "502               396.90                 9.08                20.60  \n",
       "503               396.90                 5.64                23.90  \n",
       "504               393.45                 6.48                22.00  \n",
       "505               396.90                 7.88                11.90  \n",
       "\n",
       "[506 rows x 14 columns]"
      ]
     },
     "execution_count": 2,
     "metadata": {},
     "output_type": "execute_result"
    }
   ],
   "source": [
    "# load data\n",
    "boston = pd.read_csv('Boston.csv')\n",
    "boston"
   ]
  },
  {
   "cell_type": "markdown",
   "id": "b76eecab-4214-402b-a762-bed45ad4a331",
   "metadata": {},
   "source": [
    "#### Simple Data Exploration\n",
    "First, Let's check out how data looks like"
   ]
  },
  {
   "cell_type": "code",
   "execution_count": 3,
   "id": "661874f6-2778-465c-8245-fca8250d51d0",
   "metadata": {},
   "outputs": [
    {
     "data": {
      "image/png": "[encoded data removed]",
      "text/plain": [
       "<Figure size 432x288 with 1 Axes>"
      ]
     },
     "metadata": {
      "needs_background": "light"
     },
     "output_type": "display_data"
    }
   ],
   "source": [
    "import matplotlib.pyplot as plt\n",
    "\n",
    "fig, ax = plt.subplots()\n",
    "ax.scatter(boston.lstat.values, boston.medv.values, label='Data');\n",
    "ax.set_xlabel(\"lstat\");\n",
    "ax.set_ylabel(\"medv\");\n",
    "ax.legend();\n",
    "plt.xlim(0, 40);\n",
    "plt.ylim(0, 55);"
   ]
  },
  {
   "cell_type": "markdown",
   "id": "cb4355b0-e786-4a79-ad4a-42c2b11791be",
   "metadata": {},
   "source": [
    "#### Simple Linear Regression using Scikit-Learn"
   ]
  },
  {
   "cell_type": "code",
   "execution_count": 4,
   "id": "4e4427be-bedd-46b0-8462-1430a03892fa",
   "metadata": {},
   "outputs": [
    {
     "data": {
      "text/plain": [
       "(34.55384087938311, array([-0.95004935]))"
      ]
     },
     "execution_count": 4,
     "metadata": {},
     "output_type": "execute_result"
    }
   ],
   "source": [
    "from sklearn.linear_model import LinearRegression\n",
    "\n",
    "# LR model with intercept\n",
    "LR_sklearn = LinearRegression(fit_intercept=True)\n",
    "\n",
    "X_train = boston['lstat'].values.reshape(-1, 1) # Input (X)\n",
    "y_train = boston['medv'].values # Ground Truth (y)\n",
    "LR_sklearn.fit(X_train, y_train)\n",
    "(LR_sklearn.intercept_, LR_sklearn.coef_)"
   ]
  },
  {
   "cell_type": "markdown",
   "id": "eff95c54-d330-4591-9766-90fa558df088",
   "metadata": {},
   "source": [
    "#### Drawing the regresion line on top of the scatterplot"
   ]
  },
  {
   "cell_type": "code",
   "execution_count": 5,
   "id": "8b121583-c326-403e-a149-9e6c3a971b99",
   "metadata": {},
   "outputs": [
    {
     "data": {
      "image/png": "[encoded data removed]",
      "text/plain": [
       "<Figure size 432x288 with 1 Axes>"
      ]
     },
     "metadata": {
      "needs_background": "light"
     },
     "output_type": "display_data"
    }
   ],
   "source": [
    "fig, ax = plt.subplots()\n",
    "boston.plot(x=\"lstat\", y=\"medv\", style=\"o\", ax=ax) # plot using pandas\n",
    "ax.set_ylabel(\"medv\")\n",
    "xs = range(int(np.min(X_train[:,0])), int(np.max(X_train[:,0])))\n",
    "xs = np.array(xs).reshape(-1,1)\n",
    "ys = LR_sklearn.predict(xs)\n",
    "ax.plot(xs, ys, 'r', linewidth=2.5);\n",
    "ax.legend(['Data',\"LR\"]);\n",
    "plt.xlim(0, 40);\n",
    "plt.ylim(0, 55);"
   ]
  },
  {
   "cell_type": "markdown",
   "id": "a6e9212c-bf84-4d43-aef8-9104f9d5a6b0",
   "metadata": {},
   "source": [
    "It seems like our model is well fitted to the data!"
   ]
  },
  {
   "cell_type": "markdown",
   "id": "b23a4e95-37f3-4ac9-bf07-630e6d31c8c4",
   "metadata": {},
   "source": [
    "#### Multivariate Linear Regression\n",
    "\n",
    "Can we use more features? it looks wasteful not using the all given feature!    \n",
    "As we learned in lecture, we can easily extend to **multivariate settings**! (Higher Dimension)\n",
    "\n",
    "<figure class=\"image\">\n",
    "  <img src=\"https://drive.google.com/uc?export=view&id=18EmMHQbcZ4aW7xk1Kkqv8HEDsc3CqgeB\" width=\"30%\" height=\"30%\" title=\"recommender system\" alt=\"recommender system\"></img>\n",
    "</figure>\n",
    "\n",
    "We can use above mentioned features in Boston Dataset.\n",
    "<figure class=\"image\">\n",
    "  <img src=\"https://drive.google.com/uc?export=view&id=188XYn1wlIV23uV63jo-bDUb9HtjWLNYZ\" width=\"50%\" height=\"50%\" title=\"recommender system\" alt=\"recommender system\"></img>\n",
    "</figure>"
   ]
  },
  {
   "cell_type": "code",
   "execution_count": 6,
   "id": "8ef247ee-18cd-4866-b9f4-63306fa0aaf9",
   "metadata": {},
   "outputs": [
    {
     "data": {
      "text/plain": [
       "(33.2227605317929, array([-1.03206856,  0.03454434]))"
      ]
     },
     "execution_count": 6,
     "metadata": {},
     "output_type": "execute_result"
    }
   ],
   "source": [
    "# regression with 2 input columns\n",
    "X_train = boston[[\"lstat\", \"age\"]]\n",
    "y_true = boston['medv']\n",
    "ols_sklearn_2 = LinearRegression()\n",
    "ols_sklearn_2.fit(X_train, y_true)\n",
    "(ols_sklearn_2.intercept_, ols_sklearn_2.coef_)"
   ]
  },
  {
   "cell_type": "code",
   "execution_count": 7,
   "id": "a2178328-1310-47fc-ba18-d4143cc39aa1",
   "metadata": {},
   "outputs": [
    {
     "data": {
      "text/plain": [
       "(36.4594883850902,\n",
       " array([-1.08011358e-01,  4.64204584e-02,  2.05586264e-02,  2.68673382e+00,\n",
       "        -1.77666112e+01,  3.80986521e+00,  6.92224640e-04, -1.47556685e+00,\n",
       "         3.06049479e-01, -1.23345939e-02, -9.52747232e-01,  9.31168327e-03,\n",
       "        -5.24758378e-01]))"
      ]
     },
     "execution_count": 7,
     "metadata": {},
     "output_type": "execute_result"
    }
   ],
   "source": [
    "# regression using all input columns\n",
    "xcols = boston.columns[:-1] # Last column is the label column\n",
    "X_train = boston[xcols]\n",
    "y_true = boston['medv']\n",
    "ols_sklearn_3 = LinearRegression()\n",
    "ols_sklearn_3.fit(X_train, y_true)\n",
    "(ols_sklearn_3.intercept_, ols_sklearn_3.coef_)"
   ]
  },
  {
   "cell_type": "markdown",
   "id": "afeeefca-4c31-4820-b56c-d05dbbc1337b",
   "metadata": {},
   "source": [
    "### Classification : Logistic Regression\n",
    "\n",
    "The linear regression model assumes that the response variable $y$ is quantitative.  \n",
    "But in many situations, the response variable is instead **qualitative** or **categorical**, leading to **classification problem**.  \n",
    "\n",
    "Often we are more interested in estimating the probabilities that $X$ belongs to each category.\n",
    "\n",
    "Logistic regression models are linear models for classification\n",
    "\n",
    "We use the logistic function (a type of **“S”-shaped sigmoid function**)  \n",
    "- $P\\left(y_{i}=1 \\mid X_{i} ; \\boldsymbol{\\beta}\\right)=\\frac{e^{\\beta_{0}+\\beta_{1} X_{i 1}+\\cdots+\\beta_{p} X_{i p}}}{1+e^{\\beta_{0}+\\beta_{1} X_{i 1}+\\cdots+\\beta_{p} X_{i p}}}=\\frac{e^{X_{i}\\boldsymbol{\\beta}}}{1+e^{X_{i} \\boldsymbol{\\beta}}}=\\operatorname{sigmoid}\\left(X_{i}\\right)=\\sigma\\left(X_{i}\\right)$\n",
    "    \n",
    "<figure class=\"image\">\n",
    "  <img src=\"https://drive.google.com/uc?export=view&id=18R_JLCuSV1G6-Ppar1dTSRu5LpQg4EJq\" width=\"50%\" height=\"50%\" title=\"recommender system\" alt=\"recommender system\"></img>\n",
    "</figure>\n",
    "\n",
    "Let's predict the stock market direction with logistic regression!"
   ]
  },
  {
   "cell_type": "markdown",
   "id": "b28f88fa-c480-4422-aaf1-22823d3576a5",
   "metadata": {},
   "source": [
    "#### Smarket: S&P Stock Market dataset description\n",
    "\n",
    "A data frame with 1250 observations on the following 9 variables.\n",
    "\n",
    "``Year``: The year that the observation was recorded  \n",
    "``Lag1``: Percentage return for previous day  \n",
    "``Lag2``: Percentage return for 2 days previous  \n",
    "``Lag3``: Percentage return for 3 days previous  \n",
    "``Lag4``: Percentage return for 4 days previous  \n",
    "``Lag5``: Percentage return for 5 days previous  \n",
    "``Volume``: Volume of shares traded (number of daily shares traded in billions)  \n",
    "``Today``: Percentage return for today  \n",
    "``Direction``: A factor with levels Down and Up indicating whether the market had a positive or negative return on a given day"
   ]
  },
  {
   "cell_type": "code",
   "execution_count": 8,
   "id": "c363aff6-c6a7-4bd8-8a17-1c83999c243a",
   "metadata": {},
   "outputs": [
    {
     "data": {
      "text/html": [
       "<div>\n",
       "<style scoped>\n",
       "    .dataframe tbody tr th:only-of-type {\n",
       "        vertical-align: middle;\n",
       "    }\n",
       "\n",
       "    .dataframe tbody tr th {\n",
       "        vertical-align: top;\n",
       "    }\n",
       "\n",
       "    .dataframe thead th {\n",
       "        text-align: right;\n",
       "    }\n",
       "</style>\n",
       "<table border=\"1\" class=\"dataframe\">\n",
       "  <thead>\n",
       "    <tr style=\"text-align: right;\">\n",
       "      <th></th>\n",
       "      <th>Year</th>\n",
       "      <th>Lag1</th>\n",
       "      <th>Lag2</th>\n",
       "      <th>Lag3</th>\n",
       "      <th>Lag4</th>\n",
       "      <th>Lag5</th>\n",
       "      <th>Volume</th>\n",
       "      <th>Today</th>\n",
       "      <th>Direction</th>\n",
       "      <th>Day</th>\n",
       "    </tr>\n",
       "  </thead>\n",
       "  <tbody>\n",
       "    <tr>\n",
       "      <th>0</th>\n",
       "      <td>2001</td>\n",
       "      <td>0.38</td>\n",
       "      <td>-0.19</td>\n",
       "      <td>-2.62</td>\n",
       "      <td>-1.05</td>\n",
       "      <td>5.01</td>\n",
       "      <td>1.19</td>\n",
       "      <td>0.96</td>\n",
       "      <td>Up</td>\n",
       "      <td>0</td>\n",
       "    </tr>\n",
       "    <tr>\n",
       "      <th>1</th>\n",
       "      <td>2001</td>\n",
       "      <td>0.96</td>\n",
       "      <td>0.38</td>\n",
       "      <td>-0.19</td>\n",
       "      <td>-2.62</td>\n",
       "      <td>-1.05</td>\n",
       "      <td>1.30</td>\n",
       "      <td>1.03</td>\n",
       "      <td>Up</td>\n",
       "      <td>1</td>\n",
       "    </tr>\n",
       "    <tr>\n",
       "      <th>2</th>\n",
       "      <td>2001</td>\n",
       "      <td>1.03</td>\n",
       "      <td>0.96</td>\n",
       "      <td>0.38</td>\n",
       "      <td>-0.19</td>\n",
       "      <td>-2.62</td>\n",
       "      <td>1.41</td>\n",
       "      <td>-0.62</td>\n",
       "      <td>Down</td>\n",
       "      <td>2</td>\n",
       "    </tr>\n",
       "    <tr>\n",
       "      <th>3</th>\n",
       "      <td>2001</td>\n",
       "      <td>-0.62</td>\n",
       "      <td>1.03</td>\n",
       "      <td>0.96</td>\n",
       "      <td>0.38</td>\n",
       "      <td>-0.19</td>\n",
       "      <td>1.28</td>\n",
       "      <td>0.61</td>\n",
       "      <td>Up</td>\n",
       "      <td>3</td>\n",
       "    </tr>\n",
       "    <tr>\n",
       "      <th>4</th>\n",
       "      <td>2001</td>\n",
       "      <td>0.61</td>\n",
       "      <td>-0.62</td>\n",
       "      <td>1.03</td>\n",
       "      <td>0.96</td>\n",
       "      <td>0.38</td>\n",
       "      <td>1.21</td>\n",
       "      <td>0.21</td>\n",
       "      <td>Up</td>\n",
       "      <td>4</td>\n",
       "    </tr>\n",
       "  </tbody>\n",
       "</table>\n",
       "</div>"
      ],
      "text/plain": [
       "   Year                 Lag1                 Lag2                 Lag3  \\\n",
       "0  2001                 0.38                -0.19                -2.62   \n",
       "1  2001                 0.96                 0.38                -0.19   \n",
       "2  2001                 1.03                 0.96                 0.38   \n",
       "3  2001                -0.62                 1.03                 0.96   \n",
       "4  2001                 0.61                -0.62                 1.03   \n",
       "\n",
       "                  Lag4                 Lag5               Volume  \\\n",
       "0                -1.05                 5.01                 1.19   \n",
       "1                -2.62                -1.05                 1.30   \n",
       "2                -0.19                -2.62                 1.41   \n",
       "3                 0.38                -0.19                 1.28   \n",
       "4                 0.96                 0.38                 1.21   \n",
       "\n",
       "                 Today Direction  Day  \n",
       "0                 0.96        Up    0  \n",
       "1                 1.03        Up    1  \n",
       "2                -0.62      Down    2  \n",
       "3                 0.61        Up    3  \n",
       "4                 0.21        Up    4  "
      ]
     },
     "execution_count": 8,
     "metadata": {},
     "output_type": "execute_result"
    }
   ],
   "source": [
    "smarket = pd.read_csv('Smarket.csv')\n",
    "smarket.Direction = smarket.Direction.astype('category')\n",
    "smarket['Day']=smarket.index\n",
    "smarket.head()"
   ]
  },
  {
   "cell_type": "code",
   "execution_count": 9,
   "id": "0902424c-e739-4025-8dd7-2cb2b72062d0",
   "metadata": {},
   "outputs": [
    {
     "data": {
      "image/png": "[encoded data removed]",
      "text/plain": [
       "<Figure size 576x432 with 1 Axes>"
      ]
     },
     "metadata": {
      "needs_background": "light"
     },
     "output_type": "display_data"
    }
   ],
   "source": [
    "fig, ax = plt.subplots(figsize = (8,6))\n",
    "ax.scatter(smarket.Day, smarket.Volume);\n",
    "ax.set_xlabel('Days');\n",
    "ax.set_ylabel('Volume in Billions');"
   ]
  },
  {
   "cell_type": "code",
   "execution_count": 10,
   "id": "7c030a92-49ea-41dc-86d9-702c78614bff",
   "metadata": {},
   "outputs": [
    {
     "name": "stdout",
     "output_type": "stream",
     "text": [
      "Intercept: [-0.12600781]\n",
      "Coefficients: [[-0.07307339 -0.04230074  0.01108552  0.00935968  0.01031339  0.13544567]]\n"
     ]
    }
   ],
   "source": [
    "from sklearn.linear_model import LogisticRegression\n",
    "\n",
    "X = smarket.loc[:,'Lag1':'Volume']\n",
    "y = smarket.Direction\n",
    "\n",
    "logistic_sklearn = LogisticRegression(fit_intercept=True, C=1e9) # Large C for no regularization\n",
    "logistic_sklearn_fit = logistic_sklearn.fit(X, y)\n",
    "\n",
    "print(\"Intercept: {}\".format(logistic_sklearn_fit.intercept_))\n",
    "print(\"Coefficients: {}\".format(logistic_sklearn_fit.coef_))"
   ]
  },
  {
   "cell_type": "code",
   "execution_count": 16,
   "id": "460444f3-bf3d-4689-80c8-389e4aca6ead",
   "metadata": {},
   "outputs": [
    {
     "name": "stdout",
     "output_type": "stream",
     "text": [
      "Accuracy: 0.5216 \n",
      "\n"
     ]
    },
    {
     "data": {
      "text/html": [
       "<div>\n",
       "<style scoped>\n",
       "    .dataframe tbody tr th:only-of-type {\n",
       "        vertical-align: middle;\n",
       "    }\n",
       "\n",
       "    .dataframe tbody tr th {\n",
       "        vertical-align: top;\n",
       "    }\n",
       "\n",
       "    .dataframe thead th {\n",
       "        text-align: right;\n",
       "    }\n",
       "</style>\n",
       "<table border=\"1\" class=\"dataframe\">\n",
       "  <thead>\n",
       "    <tr style=\"text-align: right;\">\n",
       "      <th></th>\n",
       "      <th>prob_0</th>\n",
       "      <th>prob_1</th>\n",
       "      <th>pred_class</th>\n",
       "      <th>ground_truth</th>\n",
       "    </tr>\n",
       "  </thead>\n",
       "  <tbody>\n",
       "    <tr>\n",
       "      <th>0</th>\n",
       "      <td>0.49</td>\n",
       "      <td>0.51</td>\n",
       "      <td>Up</td>\n",
       "      <td>Up</td>\n",
       "    </tr>\n",
       "    <tr>\n",
       "      <th>1</th>\n",
       "      <td>0.52</td>\n",
       "      <td>0.48</td>\n",
       "      <td>Down</td>\n",
       "      <td>Up</td>\n",
       "    </tr>\n",
       "    <tr>\n",
       "      <th>2</th>\n",
       "      <td>0.52</td>\n",
       "      <td>0.48</td>\n",
       "      <td>Down</td>\n",
       "      <td>Down</td>\n",
       "    </tr>\n",
       "    <tr>\n",
       "      <th>3</th>\n",
       "      <td>0.48</td>\n",
       "      <td>0.52</td>\n",
       "      <td>Up</td>\n",
       "      <td>Up</td>\n",
       "    </tr>\n",
       "    <tr>\n",
       "      <th>4</th>\n",
       "      <td>0.49</td>\n",
       "      <td>0.51</td>\n",
       "      <td>Up</td>\n",
       "      <td>Up</td>\n",
       "    </tr>\n",
       "    <tr>\n",
       "      <th>...</th>\n",
       "      <td>...</td>\n",
       "      <td>...</td>\n",
       "      <td>...</td>\n",
       "      <td>...</td>\n",
       "    </tr>\n",
       "    <tr>\n",
       "      <th>1245</th>\n",
       "      <td>0.48</td>\n",
       "      <td>0.52</td>\n",
       "      <td>Up</td>\n",
       "      <td>Up</td>\n",
       "    </tr>\n",
       "    <tr>\n",
       "      <th>1246</th>\n",
       "      <td>0.49</td>\n",
       "      <td>0.51</td>\n",
       "      <td>Up</td>\n",
       "      <td>Down</td>\n",
       "    </tr>\n",
       "    <tr>\n",
       "      <th>1247</th>\n",
       "      <td>0.46</td>\n",
       "      <td>0.54</td>\n",
       "      <td>Up</td>\n",
       "      <td>Up</td>\n",
       "    </tr>\n",
       "    <tr>\n",
       "      <th>1248</th>\n",
       "      <td>0.47</td>\n",
       "      <td>0.53</td>\n",
       "      <td>Up</td>\n",
       "      <td>Down</td>\n",
       "    </tr>\n",
       "    <tr>\n",
       "      <th>1249</th>\n",
       "      <td>0.48</td>\n",
       "      <td>0.52</td>\n",
       "      <td>Up</td>\n",
       "      <td>Down</td>\n",
       "    </tr>\n",
       "  </tbody>\n",
       "</table>\n",
       "<p>1250 rows × 4 columns</p>\n",
       "</div>"
      ],
      "text/plain": [
       "                   prob_0               prob_1 pred_class ground_truth\n",
       "0                    0.49                 0.51         Up           Up\n",
       "1                    0.52                 0.48       Down           Up\n",
       "2                    0.52                 0.48       Down         Down\n",
       "3                    0.48                 0.52         Up           Up\n",
       "4                    0.49                 0.51         Up           Up\n",
       "...                   ...                  ...        ...          ...\n",
       "1245                 0.48                 0.52         Up           Up\n",
       "1246                 0.49                 0.51         Up         Down\n",
       "1247                 0.46                 0.54         Up           Up\n",
       "1248                 0.47                 0.53         Up         Down\n",
       "1249                 0.48                 0.52         Up         Down\n",
       "\n",
       "[1250 rows x 4 columns]"
      ]
     },
     "execution_count": 16,
     "metadata": {},
     "output_type": "execute_result"
    }
   ],
   "source": [
    "y_pred = logistic_sklearn_fit.predict_proba(X)[:, 0]\n",
    "y_pred_class = logistic_sklearn_fit.predict(X)\n",
    "\n",
    "from sklearn.metrics import accuracy_score\n",
    "acc = accuracy_score(y, y_pred_class)\n",
    "print('Accuracy: {} \\n'.format(acc))\n",
    "\n",
    "# prediction summary\n",
    "pd.DataFrame({'prob_0': y_pred, 'prob_1': 1 - y_pred, 'pred_class': y_pred_class, 'ground_truth': y},  columns=['prob_0', 'prob_1', 'pred_class', 'ground_truth'])"
   ]
  },
  {
   "cell_type": "markdown",
   "id": "f722a720-54d3-43f7-916c-4133910b274f",
   "metadata": {},
   "source": [
    "## Unsupervised Learning\n",
    "Discover the latent structure in data ($x_1, x_2, ..., x_n$) for which outcomes are not known (No output $y$).  \n",
    "The most representative task is **Cluster Analysis**.  \n",
    "  \n",
    "**Cluster Analysis** is the task of grouping a set of objects in such a way that objects in the same group are more similar to each other than those in other groups (clusters).\n",
    "\n",
    "<figure class=\"image\">\n",
    "  <img src=\"https://drive.google.com/uc?export=view&id=196k1nOo9Ws-ay8Mfyiy-7VAHcWsp2gMS\" width=\"30%\" height=\"30%\" title=\"recommender system\" alt=\"recommender system\"></img>\n",
    "</figure>\n",
    "\n",
    "### K-Means Clustering\n",
    "K-means clustering is the most basic algorithm for clustering task.  \n",
    "K-means clustering minimizes within-cluster variances by iteratively updating centroids position until convergence.\n",
    "\n",
    "<figure class=\"image\">\n",
    "  <img src=\"https://drive.google.com/uc?export=view&id=19-PyMuREjW2Iya3TumxPforhE9uVDQ_1\" width=\"50%\" height=\"50%\" title=\"recommender system\" alt=\"recommender system\"></img>\n",
    "</figure>"
   ]
  },
  {
   "cell_type": "code",
   "execution_count": 17,
   "id": "3afa4af9-850f-4bb9-ae6f-630c56490c7e",
   "metadata": {},
   "outputs": [
    {
     "data": {
      "image/png": "[encoded data removed]",
      "text/plain": [
       "<Figure size 432x288 with 1 Axes>"
      ]
     },
     "metadata": {
      "needs_background": "light"
     },
     "output_type": "display_data"
    }
   ],
   "source": [
    "#Iris_data_k-means_plot\n",
    "import numpy as np\n",
    "import pandas as pd\n",
    "import matplotlib.pyplot as plt\n",
    "from matplotlib.colors import ListedColormap\n",
    "\n",
    "#Plotting the Iris data\n",
    "#select setosa and versicolor\n",
    "df = pd.read_csv('https://archive.ics.uci.edu/ml/machine-learning-databases/iris/iris.data', header=None)\n",
    "y = df.iloc[0:100, 4].values\n",
    "y = np.where(y == 'Iris-setosa', -1, 1)\n",
    "\n",
    "#extract sepal length and petal length\n",
    "X = df.iloc[0:100, [0, 2]].values\n",
    "\n",
    "#plot data\n",
    "plt.scatter(X[:50, 0], X[:50, 1],\n",
    "color='red', marker='o', label='setosa')\n",
    "plt.scatter(X[50:100, 0], X[50:100, 1],\n",
    "color='blue', marker='x', label='versicolor')\n",
    "\n",
    "plt.xlabel('sepal length [cm]')\n",
    "plt.ylabel('petal length [cm]')\n",
    "plt.legend(loc='upper left')\n",
    "plt.show()"
   ]
  },
  {
   "cell_type": "code",
   "execution_count": 18,
   "id": "5db7b949-c962-49fb-9395-77e9d47cec7b",
   "metadata": {},
   "outputs": [
    {
     "ename": "ModuleNotFoundError",
     "evalue": "No module named 'sklearn.cluster'",
     "output_type": "error",
     "traceback": [
      "\u001b[0;31m---------------------------------------------------------------------------\u001b[0m",
      "\u001b[0;31mModuleNotFoundError\u001b[0m                       Traceback (most recent call last)",
      "\u001b[0;32m<ipython-input-18-7a7357293548>\u001b[0m in \u001b[0;36m<module>\u001b[0;34m\u001b[0m\n\u001b[1;32m      1\u001b[0m \u001b[0;31m#Kmeans processing\u001b[0m\u001b[0;34m\u001b[0m\u001b[0;34m\u001b[0m\u001b[0;34m\u001b[0m\u001b[0m\n\u001b[0;32m----> 2\u001b[0;31m \u001b[0;32mfrom\u001b[0m \u001b[0msklearn\u001b[0m\u001b[0;34m.\u001b[0m\u001b[0mcluster\u001b[0m \u001b[0;32mimport\u001b[0m \u001b[0mKMeans\u001b[0m\u001b[0;34m\u001b[0m\u001b[0;34m\u001b[0m\u001b[0m\n\u001b[0m\u001b[1;32m      3\u001b[0m \u001b[0;34m\u001b[0m\u001b[0m\n\u001b[1;32m      4\u001b[0m \u001b[0mkm\u001b[0m \u001b[0;34m=\u001b[0m \u001b[0mKMeans\u001b[0m\u001b[0;34m(\u001b[0m\u001b[0mn_clusters\u001b[0m\u001b[0;34m=\u001b[0m\u001b[0;36m2\u001b[0m\u001b[0;34m,\u001b[0m \u001b[0minit\u001b[0m\u001b[0;34m=\u001b[0m\u001b[0;34m'k-means++'\u001b[0m\u001b[0;34m,\u001b[0m \u001b[0mn_init\u001b[0m\u001b[0;34m=\u001b[0m\u001b[0;36m10\u001b[0m\u001b[0;34m,\u001b[0m \u001b[0mmax_iter\u001b[0m\u001b[0;34m=\u001b[0m\u001b[0;36m300\u001b[0m\u001b[0;34m,\u001b[0m \u001b[0mtol\u001b[0m\u001b[0;34m=\u001b[0m\u001b[0;36m1e-04\u001b[0m\u001b[0;34m,\u001b[0m\u001b[0mrandom_state\u001b[0m\u001b[0;34m=\u001b[0m\u001b[0;36m0\u001b[0m\u001b[0;34m)\u001b[0m\u001b[0;34m\u001b[0m\u001b[0;34m\u001b[0m\u001b[0m\n\u001b[1;32m      5\u001b[0m \u001b[0;34m\u001b[0m\u001b[0m\n",
      "\u001b[0;31mModuleNotFoundError\u001b[0m: No module named 'sklearn.cluster'"
     ]
    }
   ],
   "source": [
    "#Kmeans processing\n",
    "from sklearn.cluster import KMeans\n",
    "\n",
    "km = KMeans(n_clusters=2, init='k-means++', n_init=10, max_iter=300, tol=1e-04,random_state=0)\n",
    "\n",
    "y_km = km.fit_predict(X)\n",
    "\n",
    "plt.scatter(X[y_km == 0, 0],X[y_km == 0, 1], s=50, c='lightgreen',\n",
    "marker='s',edgecolor='black', label='cluster 1')\n",
    "plt.scatter(X[y_km == 1, 0], X[y_km == 1, 1], s=50, c='orange',\n",
    "marker='o',edgecolor='black',label='cluster 2')\n",
    "plt.scatter(km.cluster_centers_[:, 0], km.cluster_centers_[:, 1],\n",
    "s=250, marker='*', c='red', edgecolor='black',\n",
    "label='centroids')\n",
    "plt.xlabel('sepal length [cm]')\n",
    "plt.ylabel('petal length [cm]')\n",
    "plt.legend(loc='upper left')"
   ]
  },
  {
   "cell_type": "code",
   "execution_count": null,
   "id": "1078a477-6463-4bb4-9981-1c44b4069ac9",
   "metadata": {},
   "outputs": [],
   "source": []
  }
 ],
 "metadata": {
  "kernelspec": {
   "display_name": "Python 3",
   "language": "python",
   "name": "python3"
  },
  "language_info": {
   "codemirror_mode": {
    "name": "ipython",
    "version": 3
   },
   "file_extension": ".py",
   "mimetype": "text/x-python",
   "name": "python",
   "nbconvert_exporter": "python",
   "pygments_lexer": "ipython3",
   "version": "3.7.10"
  }
 },
 "nbformat": 4,
 "nbformat_minor": 5
}
