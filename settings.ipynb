{
 "cells": [
  {
   "cell_type": "code",
   "execution_count": null,
   "id": "83948501-46a0-49d8-876c-33fa109b172a",
   "metadata": {},
   "outputs": [],
   "source": [
    "# You should mount your drive to download class materials\n",
    "from google.colab import drive\n",
    "drive.mount('/content/drive')"
   ]
  },
  {
   "cell_type": "code",
   "execution_count": null,
   "id": "95aeeee6-adc6-4f3d-9cc7-8ecc2854f66c",
   "metadata": {},
   "outputs": [],
   "source": [
    "# Please select the directory you want to download class materials.\n",
    "# cd \"/content/drive/My Drive/\" is the basic directory for your drive\n",
    "cd \"/content/drive/My Drive/Colab Notebooks\""
   ]
  },
  {
   "cell_type": "code",
   "execution_count": null,
   "id": "2693e9b8-8381-4aa0-95b7-6f21fba0bc56",
   "metadata": {},
   "outputs": [],
   "source": [
    "!git clone https://github.com/Namkyeong/CoE202.git"
   ]
  }
 ],
 "metadata": {
  "kernelspec": {
   "display_name": "Python 3",
   "language": "python",
   "name": "python3"
  },
  "language_info": {
   "codemirror_mode": {
    "name": "ipython",
    "version": 3
   },
   "file_extension": ".py",
   "mimetype": "text/x-python",
   "name": "python",
   "nbconvert_exporter": "python",
   "pygments_lexer": "ipython3",
   "version": "3.7.10"
  }
 },
 "nbformat": 4,
 "nbformat_minor": 5
}
